{
  "nbformat": 4,
  "nbformat_minor": 0,
  "metadata": {
    "colab": {
      "provenance": []
    },
    "kernelspec": {
      "name": "python3",
      "display_name": "Python 3"
    },
    "language_info": {
      "name": "python"
    }
  },
  "cells": [
    {
      "cell_type": "code",
      "execution_count": null,
      "metadata": {
        "colab": {
          "base_uri": "https://localhost:8080/"
        },
        "id": "Jb88eZGH1wjv",
        "outputId": "f5dfafc0-e656-4f72-f505-92191d6ae942"
      },
      "outputs": [
        {
          "output_type": "stream",
          "name": "stdout",
          "text": [
            "Forme du fichier gauche: (84000,)\n",
            "Forme du fichier droit: (84000,)\n",
            "Extrait du fichier gauche:\n",
            " [0.5418993  0.50854486]\n",
            "Extrait du fichier droit:\n",
            " [-0.83669233 -0.8399047 ]\n"
          ]
        }
      ],
      "source": [
        "import numpy as np\n",
        "\n",
        "# Charger les fichiers\n",
        "left_data = np.load('gen_als_left_1_smoothed.npy')\n",
        "right_data = np.load('gen_als_right_1_smoothed.npy')\n",
        "\n",
        "# Afficher la forme (shape) de chaque tableau\n",
        "print(\"Forme du fichier gauche:\", left_data.shape)\n",
        "print(\"Forme du fichier droit:\", right_data.shape)\n",
        "\n",
        "# Optionnel : voir les premières lignes pour comprendre la structure\n",
        "print(\"Extrait du fichier gauche:\\n\", left_data[:2])\n",
        "print(\"Extrait du fichier droit:\\n\", right_data[:2])\n"
      ]
    },
    {
      "cell_type": "code",
      "source": [
        "import numpy as np\n",
        "import pandas as pd\n",
        "\n",
        "# Charger les signaux\n",
        "left_signal = np.load('gen_park_left_3_smoothed.npy')\n",
        "right_signal = np.load('gen_park_right_3_smoothed.npy')\n",
        "\n",
        "# Vérification que les deux signaux ont la même longueur\n",
        "assert len(left_signal) == len(right_signal), \"Les signaux n'ont pas la même longueur.\"\n",
        "\n",
        "# Générer le vecteur de temps (timestamp) — ici, avec un exemple de 300 Hz\n",
        "sampling_rate = 300  # en Hz\n",
        "timestamps = np.arange(len(left_signal)) / sampling_rate\n",
        "\n",
        "# Créer le DataFrame avec les colonnes demandées\n",
        "df = pd.DataFrame({\n",
        "    'timestamp': timestamps,\n",
        "    'left_signal': left_signal,\n",
        "    'right_signal': right_signal\n",
        "})\n",
        "\n",
        "# Sauvegarder le DataFrame dans un fichier CSV nommé \"generated_als_14.csv\"\n",
        "df.to_csv('generated_park_18.csv', index=False)\n",
        "\n",
        "# Afficher une confirmation\n",
        "print(\"Fichier 'generated_park_18.csv' enregistré avec succès.\")\n"
      ],
      "metadata": {
        "colab": {
          "base_uri": "https://localhost:8080/"
        },
        "id": "cXzHVG9X2voq",
        "outputId": "6295e8e7-0c4f-4220-a27f-2244298a05d8"
      },
      "execution_count": null,
      "outputs": [
        {
          "output_type": "stream",
          "name": "stdout",
          "text": [
            "Fichier 'generated_park_18.csv' enregistré avec succès.\n"
          ]
        }
      ]
    }
  ]
}